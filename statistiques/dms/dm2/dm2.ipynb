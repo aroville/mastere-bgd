{
 "cells": [
  {
   "cell_type": "code",
   "execution_count": 51,
   "metadata": {
    "collapsed": false
   },
   "outputs": [],
   "source": [
    "# IMPORTS\n",
    "\n",
    "import numpy as np\n",
    "from matplotlib import pyplot as plt\n",
    "from pprint import pprint"
   ]
  },
  {
   "cell_type": "markdown",
   "metadata": {},
   "source": [
    "## Exercice 1"
   ]
  },
  {
   "cell_type": "markdown",
   "metadata": {},
   "source": [
    "### 1) Generate n=500 samples from a Beta distribution with parameter (α,β)=(2,5). Display the histogram of this sample with 25 bins. Then, generate n=500 independent random vectors Xi , i=1,.,n in R2, where all coordinates are drawn independently from a Beta distribution with parameter (α,β)=(2,5). Compute the mean vector (in R²)."
   ]
  },
  {
   "cell_type": "code",
   "execution_count": 63,
   "metadata": {
    "collapsed": false
   },
   "outputs": [
    {
     "data": {
      "text/plain": [
       "(0.27857926087005253, 0.28496940343875404)"
      ]
     },
     "execution_count": 63,
     "metadata": {},
     "output_type": "execute_result"
    }
   ],
   "source": [
    "(alpha, beta) = (2, 5)\n",
    "n = 500\n",
    "\n",
    "samples = np.random.beta(alpha, beta, n)\n",
    "plt.hist(samples, bins=25, label='Samples from Beta distribution')\n",
    "plt.show()\n",
    "\n",
    "beta1 = np.random.beta(alpha, beta, 500)\n",
    "beta2 = np.random.beta(alpha, beta, 500)\n",
    "r2_vectors = list(zip(beta1, beta2))\n",
    "\n",
    "mean_vector = (beta1.mean(), beta2.mean())\n",
    "mean_vector"
   ]
  },
  {
   "cell_type": "markdown",
   "metadata": {
    "collapsed": true
   },
   "source": [
    "### 2) Compute B=500 bootstrap estimators of the mean. On the same plot, represent the observed data, the mean and the 500 bootstrap estimators of the mean.\n"
   ]
  },
  {
   "cell_type": "code",
   "execution_count": 67,
   "metadata": {
    "collapsed": false
   },
   "outputs": [
    {
     "name": "stdout",
     "output_type": "stream",
     "text": [
      "[336 257 180 275 163 320 149 425 210   2 271 140 104 217 136 430 174 332\n",
      "  68 156 381 493 363 195  65 321 489 284  90  20 119 463 306 410 490 191\n",
      " 219 172  88 211 252 192 383 218 375 105  12  94 359 241 375 303 400  23\n",
      " 153 302 374  12  80 108 155 107 379  29 107 211 148 287 108 106  80 323\n",
      " 283 244 320 479  41 353  56  91 113 491 136 364 137 275 234 314 336 123\n",
      " 163 171 381 136 259 155  94 182 262 207 467 212 241  12 469 290 259 266\n",
      " 159 328 255  91 144 353 205 202 110 323  15 369 481 197 193   0 427 450\n",
      " 416 336 216  18 234 175 182 194  11 227 388  83  15  86   3  81 489 194\n",
      " 472 361 477 174 128  45 310  80 287  26 440 430 193 286  17 212 460 377\n",
      " 133 160 321 413 177  74 399 208 277  59 178 158 395 110 330 367 156 492\n",
      " 324 103 478 153 357 338 254 163 458 312  97 378 195 492 188 313 185 348\n",
      "  33 127 212 158 408  36 199   5 454 361   6 272 136 272  91 196 440 353\n",
      " 128  15 274 299 436 138 302 265  32 157 436 453  19 496  96 309 415 140\n",
      " 193 429 454 177 229 255 292  91 158 351 255 444 487 398  69 210 175 161\n",
      " 364 151 402 397 184  24 200 403 121  95  47  67  34  13 451 226   3  65\n",
      " 233 389 440 166 393 326 332 287  23 452 215  13 117 284 351 407  19  24\n",
      "  42 236 109 226 433 178 482 424  99 315 370  19 460 104 267  84 297 471\n",
      " 109 305 456 367 418 250 222 444 167 137 136 225  29 280 126 216 114 379\n",
      " 279  14 311 477  72 342 346 115  12 192 202  81 130 431 168 343 370 135\n",
      " 354 409 240  36 421 438 120   4 464 208  30  58 489 233 322  75 362 118\n",
      " 233 459 444 352 421  72  96 145 309 446 106 213 221 459 447 388 218 466\n",
      " 226 285 122 106  28  10 409 469 409 361 457 251 344 347 213 491  66  34\n",
      " 245  77 293  82 151  77   1 425 384  16 329 491 109 115 178 258 264 266\n",
      " 148   6 386 129  41  70 359 464 444 395  13 499  10 317 324 153 153 145\n",
      " 183 274 101 311 169 346 414  18 210 426  63 433 352 454  93 386 494 171\n",
      " 427 353 410 110 371 148 132 317 185 147 405 123 466 274  76   1 219 282\n",
      " 205 218 481 452 191 269  27  33 478 107 320 253  63 275 276 101 177 478\n",
      " 181 445 220 389 406 395 413 211 344  75 231 484 288 138]\n"
     ]
    }
   ],
   "source": [
    "B = 500\n",
    "\n",
    "bootstrap_samples = []\n",
    "print(np.random.randint(0, n, n))\n",
    "# for _ in range(B):\n",
    "#     bootstrap_samples.append(r2_vectors[list(np.random.randint(0, n, n))])\n",
    "\n",
    "bootstrap_samples_mean = [v.mean() for v in bootstrap_samples]\n",
    "# mean_vect = []\n",
    "\n",
    "# mean_vector = vectors.mean(axis=0)\n",
    "# len(mean_vector)\n",
    "# mean_vector\n",
    "# plt.hist(mean_vector, bins=25, label='Samples from Beta distribution')\n",
    "# plt.show()"
   ]
  },
  {
   "cell_type": "code",
   "execution_count": null,
   "metadata": {
    "collapsed": true
   },
   "outputs": [],
   "source": []
  }
 ],
 "metadata": {
  "anaconda-cloud": {},
  "kernelspec": {
   "display_name": "Python [Root]",
   "language": "python",
   "name": "Python [Root]"
  },
  "language_info": {
   "codemirror_mode": {
    "name": "ipython",
    "version": 3
   },
   "file_extension": ".py",
   "mimetype": "text/x-python",
   "name": "python",
   "nbconvert_exporter": "python",
   "pygments_lexer": "ipython3",
   "version": "3.5.2"
  }
 },
 "nbformat": 4,
 "nbformat_minor": 0
}
