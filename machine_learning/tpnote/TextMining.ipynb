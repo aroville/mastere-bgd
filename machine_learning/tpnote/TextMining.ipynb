{
 "cells": [
  {
   "cell_type": "code",
   "execution_count": 2,
   "metadata": {
    "collapsed": false
   },
   "outputs": [],
   "source": [
    "import os.path as op\n",
    "import numpy as np\n",
    "from glob import glob\n",
    "from sklearn.base import BaseEstimator, ClassifierMixin\n",
    "from sklearn.model_selection import KFold"
   ]
  },
  {
   "cell_type": "code",
   "execution_count": 3,
   "metadata": {
    "collapsed": false
   },
   "outputs": [
    {
     "name": "stdout",
     "output_type": "stream",
     "text": [
      "2000 documents\n"
     ]
    }
   ],
   "source": [
    "# Load data\n",
    "filenames_neg = sorted(glob(op.join('data', 'imdb1', 'neg', '*.txt')))\n",
    "filenames_pos = sorted(glob(op.join('data', 'imdb1', 'pos', '*.txt')))\n",
    "\n",
    "texts_neg = [open(f).read() for f in filenames_neg]\n",
    "texts_pos = [open(f).read() for f in filenames_pos]\n",
    "texts = texts_neg + texts_pos\n",
    "\n",
    "y = np.ones(len(texts), dtype=np.int)\n",
    "y[:len(texts_neg)] = 0.\n",
    "\n",
    "print(\"%d documents\" % len(texts))"
   ]
  },
  {
   "cell_type": "code",
   "execution_count": 4,
   "metadata": {
    "collapsed": true
   },
   "outputs": [],
   "source": [
    "def count_words(texts, ignore_stop_words=True):\n",
    "    words = set(' '.join(texts).split(' '))\n",
    "\n",
    "    if ignore_stop_words:\n",
    "        stop_words = open('data/english.stop').read()\n",
    "        words = set(filter(lambda w: w not in stop_words, words))\n",
    "\n",
    "    d = {w: i for i, w in enumerate(words)}\n",
    "\n",
    "    counts = np.zeros((len(texts), len(words)))\n",
    "    for ix_text, text in enumerate(texts):\n",
    "        for word in text.split(' '):\n",
    "            if not ignore_stop_words or word not in stop_words:\n",
    "                counts[ix_text, d[word]] += 1\n",
    "\n",
    "    return d, counts"
   ]
  },
  {
   "cell_type": "markdown",
   "metadata": {},
   "source": [
    "#2 Les classes positives et négatives ont été assignées à partir des notes données au film, avec une échelle différente selon le système de notation de la source."
   ]
  },
  {
   "cell_type": "code",
   "execution_count": 5,
   "metadata": {
    "collapsed": false
   },
   "outputs": [],
   "source": [
    "class NB(BaseEstimator, ClassifierMixin):\n",
    "    def __init__(self):\n",
    "        self.prior = None\n",
    "        self.condprobe = None\n",
    "\n",
    "    def fit(self, x, y):\n",
    "        n_docs, n_words = x.shape\n",
    "        classes = set(y)\n",
    "        p = len(classes)\n",
    "        self.prior = np.empty(p)\n",
    "        self.condprobe = np.empty((p, n_words))\n",
    "\n",
    "        for c in classes:\n",
    "            self.prior[c] = len(y[y == c]) / n_docs\n",
    "            t = np.sum(x[y == c], axis=0)\n",
    "            self.condprobe[c] = (t + 1) / np.sum(t + 1)\n",
    "\n",
    "        self.condprobe = self.condprobe.T\n",
    "\n",
    "    def predict(self, x):\n",
    "        score = np.empty((x.shape[0], len(self.prior)))\n",
    "        score[:, :] = np.log(self.prior)\n",
    "\n",
    "        for row, col in np.transpose(np.nonzero(x)):\n",
    "            score[row] += np.log(self.condprobe[col])\n",
    "\n",
    "        return np.argmax(score, axis=1)\n",
    "\n",
    "    def score(self, x, y):\n",
    "        return np.mean(self.predict(x) == y)"
   ]
  },
  {
   "cell_type": "code",
   "execution_count": 6,
   "metadata": {
    "collapsed": false,
    "scrolled": false
   },
   "outputs": [
    {
     "name": "stdout",
     "output_type": "stream",
     "text": [
      "0.8625\n",
      "0.875\n",
      "0.8275\n",
      "0.7275\n",
      "0.735\n"
     ]
    }
   ],
   "source": [
    "_, X = count_words(texts, ignore_stop_words=False)\n",
    "for train_index, test_index in KFold(5).split(X, y):\n",
    "    X_train, X_test = X[train_index], X[test_index]\n",
    "    y_train, y_test = y[train_index], y[test_index]\n",
    "    nb = NB()\n",
    "    nb.fit(X_train, y_train)\n",
    "    print(nb.score(X_test, y_test))"
   ]
  },
  {
   "cell_type": "code",
   "execution_count": null,
   "metadata": {
    "collapsed": true
   },
   "outputs": [],
   "source": [
    "_, X = count_words(texts, ignore_stop_words=True)\n",
    "for train_index, test_index in KFold(5).split(X, y):\n",
    "    X_train, X_test = X[train_index], X[test_index]\n",
    "    y_train, y_test = y[train_index], y[test_index]\n",
    "    nb = NB()\n",
    "    nb.fit(X_train, y_train)\n",
    "    print(nb.score(X_test, y_test))"
   ]
  }
 ],
 "metadata": {
  "anaconda-cloud": {},
  "kernelspec": {
   "display_name": "Python [Root]",
   "language": "python",
   "name": "Python [Root]"
  },
  "language_info": {
   "codemirror_mode": {
    "name": "ipython",
    "version": 3
   },
   "file_extension": ".py",
   "mimetype": "text/x-python",
   "name": "python",
   "nbconvert_exporter": "python",
   "pygments_lexer": "ipython3",
   "version": "3.5.2"
  }
 },
 "nbformat": 4,
 "nbformat_minor": 0
}
