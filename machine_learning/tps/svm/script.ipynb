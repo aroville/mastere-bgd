{
 "cells": [
  {
   "cell_type": "code",
   "execution_count": 27,
   "metadata": {
    "collapsed": false
   },
   "outputs": [],
   "source": [
    "import numpy as np\n",
    "import matplotlib.pyplot as plt\n",
    "import seaborn as sns\n",
    "from matplotlib import rc\n",
    "from svm_source import frontiere, rand_gauss, rand_bi_gauss, plot_2d\n",
    "from time import time\n",
    "import pylab as pl\n",
    "\n",
    "from sklearn.model_selection import train_test_split\n",
    "from sklearn.datasets import fetch_lfw_people\n",
    "from sklearn import svm\n",
    "from sklearn.svm import SVC\n",
    "from sklearn import datasets\n",
    "from sklearn.model_selection import cross_val_score\n",
    "\n",
    "%matplotlib notebook\n",
    "\n",
    "def f(xx):\n",
    "    \"\"\"Classifier: needed to avoid warning due to shape issues\"\"\"\n",
    "    return clf.predict(xx.reshape(1, -1))"
   ]
  },
  {
   "cell_type": "code",
   "execution_count": 48,
   "metadata": {
    "collapsed": false,
    "scrolled": false
   },
   "outputs": [
    {
     "name": "stdout",
     "output_type": "stream",
     "text": [
      "Score for SVC linear : 0.720\n"
     ]
    }
   ],
   "source": [
    "iris = datasets.load_iris()\n",
    "X_iris = iris.data\n",
    "y_iris = iris.target\n",
    "\n",
    "X_iris = X_iris[y_iris != 0, :2]\n",
    "y_iris = y_iris[y_iris != 0]\n",
    "\n",
    "def eval_clf(clf):\n",
    "    score = np.mean(cross_val_score(clf, X_iris, y_iris, cv=5))\n",
    "    c = clf.__class__.__name__\n",
    "    kernel = clf.kernel\n",
    "    print('Score for', c, kernel, ':', '{:.3f}'.format(score))\n",
    "\n",
    "# fit the model with linear kernel\n",
    "eval_clf(SVC(kernel='linear'))"
   ]
  },
  {
   "cell_type": "code",
   "execution_count": 49,
   "metadata": {
    "collapsed": false
   },
   "outputs": [
    {
     "name": "stdout",
     "output_type": "stream",
     "text": [
      "Score for SVC poly : 0.720\n"
     ]
    }
   ],
   "source": [
    "# fit the model with linear kernel\n",
    "eval_clf(SVC(kernel='poly'))"
   ]
  },
  {
   "cell_type": "code",
   "execution_count": 41,
   "metadata": {
    "collapsed": true
   },
   "outputs": [],
   "source": [
    "#3 cf tableau"
   ]
  },
  {
   "cell_type": "code",
   "execution_count": null,
   "metadata": {
    "collapsed": true
   },
   "outputs": [],
   "source": []
  }
 ],
 "metadata": {
  "anaconda-cloud": {},
  "kernelspec": {
   "display_name": "Python [conda root]",
   "language": "python",
   "name": "conda-root-py"
  },
  "language_info": {
   "codemirror_mode": {
    "name": "ipython",
    "version": 3
   },
   "file_extension": ".py",
   "mimetype": "text/x-python",
   "name": "python",
   "nbconvert_exporter": "python",
   "pygments_lexer": "ipython3",
   "version": "3.5.2"
  }
 },
 "nbformat": 4,
 "nbformat_minor": 1
}
